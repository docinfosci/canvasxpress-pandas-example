{
 "cells": [
  {
   "cell_type": "code",
   "execution_count": null,
   "id": "49ada1a7-92d8-4a39-85a9-ded68b01ccab",
   "metadata": {},
   "outputs": [],
   "source": [
    "%%capture\n",
    "# Comment the line above to see the installation log.\n",
    "\n",
    "# Install Pandas and CanvasXpress Jupyter Edition into the Jupyter Python environment (this can take a minute)\n",
    "!pip install pandas \"canvasxpress[jupyter]\""
   ]
  },
  {
   "cell_type": "code",
   "execution_count": null,
   "id": "ab23772a-3953-4b6d-bfb6-13cb647c720d",
   "metadata": {},
   "outputs": [],
   "source": [
    "# Import CanvasXpress and its global graph function.\n",
    "from canvasxpress.canvas import CanvasXpress\n",
    "from canvasxpress.plot import graph\n",
    "\n",
    "# Import pandas, which provides DataFrame.\n",
    "import pandas\n",
    "\n",
    "# Import requests for HTTP access and io for in-memory file-like storage.\n",
    "import requests\n",
    "import io"
   ]
  },
  {
   "cell_type": "code",
   "execution_count": null,
   "id": "039ab897-afd9-4ce8-b789-b8d807f78df9",
   "metadata": {},
   "outputs": [],
   "source": [
    "# Import the data into a new DataFrame\n",
    "data_url = \"https://www.canvasxpress.org/data/r/cX-generic-dat.txt\"\n",
    "data_raw = requests.get(data_url).content\n",
    "data_df = pandas.read_csv(\n",
    "    io.StringIO(data_raw.decode('utf-8')),\n",
    "    sep=\"\\t\",\n",
    "    index_col=0,\n",
    ")\n",
    "\n",
    "# Inspect the data.\n",
    "data_df.head()"
   ]
  },
  {
   "cell_type": "code",
   "execution_count": null,
   "id": "84d41209-ed4a-40a1-b7ce-6d6803b88a52",
   "metadata": {},
   "outputs": [],
   "source": [
    "# Define the chart and display it.  Sometimes the graph() call needs to be re-run in Jupyter.  If a blank space appears re-run this cell.\n",
    "graph(\n",
    "    CanvasXpress(\n",
    "        data = data_df,\n",
    "        config = {\n",
    "            \"prompt\": \"Create a Scatter plot of x and y\",\n",
    "        }\n",
    "    )\n",
    ")"
   ]
  }
 ],
 "metadata": {
  "kernelspec": {
   "display_name": "Python 3 (ipykernel)",
   "language": "python",
   "name": "python3"
  },
  "language_info": {
   "codemirror_mode": {
    "name": "ipython",
    "version": 3
   },
   "file_extension": ".py",
   "mimetype": "text/x-python",
   "name": "python",
   "nbconvert_exporter": "python",
   "pygments_lexer": "ipython3",
   "version": "3.12.4"
  }
 },
 "nbformat": 4,
 "nbformat_minor": 5
}
