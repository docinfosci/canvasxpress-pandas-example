{
 "cells": [
  {
   "cell_type": "code",
   "execution_count": 1,
   "id": "49ada1a7-92d8-4a39-85a9-ded68b01ccab",
   "metadata": {},
   "outputs": [],
   "source": [
    "%%capture\n",
    "# Comment the line above to see the installation log.\n",
    "\n",
    "# Install Pandas and CanvasXpress Jupyter Edition into the Jupyter Python environment (this can take a minute)\n",
    "!pip install pandas \"canvasxpress[jupyter]\""
   ]
  },
  {
   "cell_type": "code",
   "execution_count": 2,
   "id": "ab23772a-3953-4b6d-bfb6-13cb647c720d",
   "metadata": {},
   "outputs": [],
   "source": [
    "# Import CanvasXpress and its global graph function.\n",
    "from canvasxpress.canvas import CanvasXpress\n",
    "from canvasxpress.plot import graph\n",
    "\n",
    "# Import pandas, which provides DataFrame.\n",
    "import pandas\n",
    "\n",
    "# Import requests for HTTP access and io for in-memory file-like storage.\n",
    "import requests\n",
    "import io"
   ]
  },
  {
   "cell_type": "code",
   "execution_count": 3,
   "id": "039ab897-afd9-4ce8-b789-b8d807f78df9",
   "metadata": {},
   "outputs": [
    {
     "data": {
      "text/html": [
       "<div>\n",
       "<style scoped>\n",
       "    .dataframe tbody tr th:only-of-type {\n",
       "        vertical-align: middle;\n",
       "    }\n",
       "\n",
       "    .dataframe tbody tr th {\n",
       "        vertical-align: top;\n",
       "    }\n",
       "\n",
       "    .dataframe thead th {\n",
       "        text-align: right;\n",
       "    }\n",
       "</style>\n",
       "<table border=\"1\" class=\"dataframe\">\n",
       "  <thead>\n",
       "    <tr style=\"text-align: right;\">\n",
       "      <th></th>\n",
       "      <th>S1</th>\n",
       "      <th>S2</th>\n",
       "      <th>S3</th>\n",
       "      <th>S4</th>\n",
       "      <th>S5</th>\n",
       "      <th>S6</th>\n",
       "    </tr>\n",
       "  </thead>\n",
       "  <tbody>\n",
       "    <tr>\n",
       "      <th>V1</th>\n",
       "      <td>5</td>\n",
       "      <td>10</td>\n",
       "      <td>25</td>\n",
       "      <td>40</td>\n",
       "      <td>45</td>\n",
       "      <td>50</td>\n",
       "    </tr>\n",
       "    <tr>\n",
       "      <th>V2</th>\n",
       "      <td>95</td>\n",
       "      <td>80</td>\n",
       "      <td>75</td>\n",
       "      <td>70</td>\n",
       "      <td>55</td>\n",
       "      <td>40</td>\n",
       "    </tr>\n",
       "    <tr>\n",
       "      <th>V3</th>\n",
       "      <td>25</td>\n",
       "      <td>30</td>\n",
       "      <td>45</td>\n",
       "      <td>60</td>\n",
       "      <td>65</td>\n",
       "      <td>70</td>\n",
       "    </tr>\n",
       "    <tr>\n",
       "      <th>V4</th>\n",
       "      <td>55</td>\n",
       "      <td>40</td>\n",
       "      <td>35</td>\n",
       "      <td>30</td>\n",
       "      <td>15</td>\n",
       "      <td>1</td>\n",
       "    </tr>\n",
       "  </tbody>\n",
       "</table>\n",
       "</div>"
      ],
      "text/plain": [
       "    S1  S2  S3  S4  S5  S6\n",
       "V1   5  10  25  40  45  50\n",
       "V2  95  80  75  70  55  40\n",
       "V3  25  30  45  60  65  70\n",
       "V4  55  40  35  30  15   1"
      ]
     },
     "execution_count": 3,
     "metadata": {},
     "output_type": "execute_result"
    }
   ],
   "source": [
    "# Import the data into a new DataFrame\n",
    "data_url = \"https://www.canvasxpress.org/data/r/cX-generic-dat.txt\"\n",
    "data_raw = requests.get(data_url).content\n",
    "data_df = pandas.read_csv(\n",
    "    io.StringIO(data_raw.decode('utf-8')),\n",
    "    sep=\"\\t\",\n",
    "    index_col=0,\n",
    ")\n",
    "\n",
    "# Inspect the data.\n",
    "data_df.head()"
   ]
  },
  {
   "cell_type": "code",
   "execution_count": 4,
   "id": "84d41209-ed4a-40a1-b7ce-6d6803b88a52",
   "metadata": {},
   "outputs": [
    {
     "data": {
      "text/html": [
       "\n",
       "<html>\n",
       "    <head>\n",
       "        <meta charset=\"UTF-8\">\n",
       "        <link \n",
       "                href='https://www.canvasxpress.org/dist/canvasXpress.css' \n",
       "                rel='stylesheet' \n",
       "                type='text/css'\n",
       "        />\n",
       "        <script \n",
       "                src='https://www.canvasxpress.org/dist/canvasXpress.min.js' \n",
       "                type='text/javascript'>\n",
       "        </script>\n",
       "    </head>\n",
       "    <body></body>\n",
       "</html>\n"
      ],
      "text/plain": [
       "<IPython.core.display.HTML object>"
      ]
     },
     "metadata": {},
     "output_type": "display_data"
    },
    {
     "data": {
      "text/html": [
       "\n",
       "<html>\n",
       "    <head>\n",
       "        <meta charset=\"UTF-8\">\n",
       "    </head>\n",
       "    <body>\n",
       "        \n",
       "        <div class=\"d-flex flex-column\"><div class=\"d-flex flex-row\"><div class=\"p-2\"><canvas id=\"78124fcfd86740a8a398f83b93f72b4f\" width=500 height=500></canvas></div></div></div>\n",
       "        \n",
       "<script type=\"text/javascript\">\n",
       "    var cX78124fcfd86740a8a398f83b93f72b4f = new CanvasXpress({\"renderTo\": \"78124fcfd86740a8a398f83b93f72b4f\", \"data\": {\"y\": {\"data\": [[5, 10, 25, 40, 45, 50], [95, 80, 75, 70, 55, 40], [25, 30, 45, 60, 65, 70], [55, 40, 35, 30, 15, 1]], \"smps\": [\"S1\", \"S2\", \"S3\", \"S4\", \"S5\", \"S6\"], \"vars\": [\"V1\", \"V2\", \"V3\", \"V4\"]}}, \"config\": {\"prompt\": \"Create a Scatter plot of x and y\"}, \"events\": {}}); \n",
       ";\n",
       "\n",
       "</script>\n",
       "\n",
       "    </body>\n",
       "</html>\n"
      ],
      "text/plain": [
       "<IPython.core.display.HTML object>"
      ]
     },
     "metadata": {},
     "output_type": "display_data"
    }
   ],
   "source": [
    "# Define the chart and display it.  Sometimes the graph() call needs to be re-run in Jupyter.  If a blank space appears re-run this cell.\n",
    "graph(\n",
    "    CanvasXpress(\n",
    "        data = data_df,\n",
    "        config = {\n",
    "            \"prompt\": \"Create a Scatter plot of x and y\",\n",
    "        }\n",
    "    )\n",
    ")"
   ]
  },
  {
   "cell_type": "code",
   "execution_count": null,
   "id": "cf83f757-61fd-401d-8b11-5693a658c457",
   "metadata": {},
   "outputs": [],
   "source": []
  }
 ],
 "metadata": {
  "kernelspec": {
   "display_name": "Python 3 (ipykernel)",
   "language": "python",
   "name": "python3"
  },
  "language_info": {
   "codemirror_mode": {
    "name": "ipython",
    "version": 3
   },
   "file_extension": ".py",
   "mimetype": "text/x-python",
   "name": "python",
   "nbconvert_exporter": "python",
   "pygments_lexer": "ipython3",
   "version": "3.12.4"
  }
 },
 "nbformat": 4,
 "nbformat_minor": 5
}
